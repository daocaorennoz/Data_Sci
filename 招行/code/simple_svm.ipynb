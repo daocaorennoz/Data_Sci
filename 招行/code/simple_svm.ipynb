{
 "cells": [
  {
   "cell_type": "code",
   "execution_count": null,
   "metadata": {},
   "outputs": [],
   "source": [
    "import pandas as pd\n",
    "import numpy as np\n",
    "data=pd.read_csv('Stan_fliter_data.csv')\n",
    "print(data.shape)\n",
    "data.head()"
   ]
  },
  {
   "cell_type": "code",
   "execution_count": null,
   "metadata": {},
   "outputs": [],
   "source": [
    "def view_ratio(X,y):\n",
    "    '''\n",
    "    查看正负类别比例\n",
    "    '''\n",
    "    n_sample = y.shape[0]\n",
    "    n_pos_sample = y[y==0].shape[0]\n",
    "    n_neg_sample = y[y==1].shape[0]\n",
    "    print('样本个数：{}：正样本占{:.2%}：负样本占{:.2%}'.format(n_sample,n_pos_sample/n_sample,n_neg_sample/n_sample))\n",
    "    print('特征维数:',X.shape[1])"
   ]
  },
  {
   "cell_type": "code",
   "execution_count": null,
   "metadata": {},
   "outputs": [],
   "source": [
    "def up_sampling(X,y):\n",
    "    '''\n",
    "    上采样函数，运用SMOTE\n",
    "    '''\n",
    "    from imblearn.over_sampling import SMOTE\n",
    "    sm = SMOTE(random_state=42)\n",
    "    X,y=sm.fit_sample(X,y)\n",
    "    return X,y"
   ]
  },
  {
   "cell_type": "code",
   "execution_count": null,
   "metadata": {},
   "outputs": [],
   "source": [
    "X=data.iloc[:,0:9]\n",
    "y=data.fake\n",
    "view_ratio(X,y)"
   ]
  },
  {
   "cell_type": "code",
   "execution_count": null,
   "metadata": {},
   "outputs": [],
   "source": [
    "X,y=up_sampling(X,y)\n",
    "view_ratio(X,y)"
   ]
  },
  {
   "cell_type": "code",
   "execution_count": null,
   "metadata": {},
   "outputs": [],
   "source": [
    "def svm_grid_search(x_train,y_train):\n",
    "    from sklearn.model_selection import GridSearchCV\n",
    "    from sklearn.metrics import classification_report\n",
    "    from sklearn.svm import SVC\n",
    "    model = SVC(kernel='rbf',probability=True)\n",
    "    param_grid={'C':[1e-3,1e-4,1e-1,1,10,100,1000],\n",
    "                'gamma':[0.001,0.0001]}\n",
    "#     scores = ['recall','precision']\n",
    "    grid_search = GridSearchCV(model,param_grid=param_grid,cv=5,scoring='recall',verbose=1)\n",
    "    grid_search.fit(x_train,y_train)\n",
    "    best_params=grid_search.best_estimator_.get_params()\n",
    "    for para,val in list(best_params.items()):\n",
    "        print(para,val)\n",
    "    model = SVC(kernel='rbf',C=best_params['C'],gamma=best_params['gamma'],probability=True)\n",
    "    model.fit(x_train,y_train)\n",
    "    return model"
   ]
  },
  {
   "cell_type": "code",
   "execution_count": null,
   "metadata": {},
   "outputs": [],
   "source": [
    "from sklearn.model_selection import train_test_split\n",
    "from sklearn.metrics import classification_report\n",
    "X_train,X_test,y_train,y_test = train_test_split(X,y,test_size=0.3,random_state=42)\n",
    "clf=svm_grid_search(X_train,y_train)\n",
    "y_true,y_pred = y_test,clf.predict(X_test)\n",
    "print(classification_report(y_true,y_pred))"
   ]
  },
  {
   "cell_type": "code",
   "execution_count": null,
   "metadata": {},
   "outputs": [],
   "source": [
    "file_test='data/FT_Camp_5/X_test.csv'\n",
    "test_data=pd.read_csv(file_test)\n",
    "stay_col=['CA_ratio','Quick_ratio','TA_TO_ratio','Curr_ratio','OtherRec_to_Cur','Pre_to_Cur','Neg_Dednp_times','Monetary_to_Cur','CIP_ratio']\n",
    "d_test=test_data[stay_col]\n",
    "d_test.head()"
   ]
  },
  {
   "cell_type": "code",
   "execution_count": null,
   "metadata": {},
   "outputs": [],
   "source": [
    "# 归一化\n",
    "from sklearn.preprocessing import StandardScaler\n",
    "sc = StandardScaler()\n",
    "# d_test=pd.DataFrame(sc.fit_transform(d_test),columns=stay_col)\n",
    "# d_test.head()\n",
    "d_test=sc.fit_transform(d_test)"
   ]
  },
  {
   "cell_type": "code",
   "execution_count": null,
   "metadata": {},
   "outputs": [],
   "source": [
    "test_data['fake']=clf.predict(d_test)"
   ]
  },
  {
   "cell_type": "code",
   "execution_count": null,
   "metadata": {},
   "outputs": [],
   "source": [
    "test_data[['stockcode','fake']].to_csv('simple_SVM.csv',sep=',',header=True,index=False,encoding='UTF-8')\n",
    "test_data[['stockcode','fake']].head()"
   ]
  }
 ],
 "metadata": {
  "kernelspec": {
   "display_name": "Python 3",
   "language": "python",
   "name": "python3"
  },
  "language_info": {
   "codemirror_mode": {
    "name": "ipython",
    "version": 3
   },
   "file_extension": ".py",
   "mimetype": "text/x-python",
   "name": "python",
   "nbconvert_exporter": "python",
   "pygments_lexer": "ipython3",
   "version": "3.7.3"
  }
 },
 "nbformat": 4,
 "nbformat_minor": 2
}
