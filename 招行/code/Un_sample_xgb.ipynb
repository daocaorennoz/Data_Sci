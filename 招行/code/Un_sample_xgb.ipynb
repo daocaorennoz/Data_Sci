{
 "cells": [
  {
   "cell_type": "code",
   "execution_count": null,
   "metadata": {},
   "outputs": [],
   "source": [
    "import pandas as pd\n",
    "path = 'data/FT_Camp_5/Train.csv'\n",
    "data = pd.read_csv(path)\n",
    "data.set_index('stockcode',inplace=True)\n",
    "data.head()"
   ]
  },
  {
   "cell_type": "code",
   "execution_count": null,
   "metadata": {},
   "outputs": [],
   "source": [
    "import pandas as pd\n",
    "import numpy as np\n",
    "from sklearn.model_selection import KFold,cross_val_score\n",
    "import xgboost as xgb\n",
    "from sklearn.model_selection import GridSearchCV\n",
    "from sklearn.model_selection import train_test_split"
   ]
  },
  {
   "cell_type": "code",
   "execution_count": null,
   "metadata": {},
   "outputs": [],
   "source": [
    "X=data.iloc[:,0:34]\n",
    "y=data.fake"
   ]
  },
  {
   "cell_type": "code",
   "execution_count": null,
   "metadata": {},
   "outputs": [],
   "source": [
    "x_train,y_train,x_test,y_test=train_test_split(X,y,test_size=0.3,random_state=42)"
   ]
  },
  {
   "cell_type": "code",
   "execution_count": null,
   "metadata": {},
   "outputs": [],
   "source": [
    "params_dict={\n",
    "    'learning_rate':0.129154966501488,\n",
    "    'n_estimators':50,\n",
    "    'gamma':0.0,\n",
    "    'max_depth':8,\n",
    "    'min_child_weight':1,\n",
    "    'colsample_bytree':0.9,\n",
    "    'colsample_bylevel':1.0,\n",
    "    'subsample':0.7,\n",
    "    'reg_lambda':0.0,\n",
    "    'reg_alpha':0.4,\n",
    "    'seed':42\n",
    "}\n",
    "clf=xgb.XGBClassifier(**params_dict)\n",
    "# cv_params={'n_estimators':np.linspace(50,150,11,dtype=int)}  50\n",
    "# cv_params={'max_depth':np.linspace(1,10,10,dtype=int)} 8\n",
    "# cv_params={'min_child_weight':np.linspace(1,10,10,dtype=int)} 1\n",
    "# cv_params={'gamma':np.linspace(0,0.1,11)}\n",
    "# cv_params={'subsample':np.linspace(0,1,11)} 0.7\n",
    "# cv_params={'colsample_bytree':np.linspace(0,1,11)[1:]} 0.9\n",
    "# cv_params={'colsample_bylevel':np.linspace(0.9,1,11)[1:]} 1.0\n",
    "# cv_params={'re_lambda':np.linspace(0,1,11)} 0.0\n",
    "# cv_params={'reg_alpha':np.linspace(0,1,11)}  0.4\n",
    "cv_params={'learning_rate':np.logspace(-1,0,10)}\n",
    "gs = GridSearchCV(clf,cv_params,verbose=2,refit=True,cv=5,n_jobs=-1)\n",
    "gs.fit(X,y)\n",
    "print('best value:',gs.best_params_)\n",
    "print('socre:',gs.best_score_)"
   ]
  },
  {
   "cell_type": "code",
   "execution_count": null,
   "metadata": {},
   "outputs": [],
   "source": [
    "from sklearn.metrics import precision_score,recall_score,f1_score\n",
    "def f1_cv(model,X,y):\n",
    "    f1=cross_val_score(model,X,y,scoring='f1_macro',cv=5)\n",
    "    return f1\n",
    "default_xgb=xgb.XGBClassifier()\n",
    "score=f1_cv(default_xgb,X,y)\n",
    "print('default:{:.4f}({:.4f})'.format(score.mean(),score.std()))\n"
   ]
  },
  {
   "cell_type": "code",
   "execution_count": null,
   "metadata": {},
   "outputs": [],
   "source": [
    "tuned_xgb=xgb.XGBClassifier(**params_dict)\n",
    "score_t=f1_cv(tuned_xgb,X,y)\n",
    "print('tuned:{:.4f}({:.4f})'.format(score_t.mean(),score_t.std()))"
   ]
  },
  {
   "cell_type": "code",
   "execution_count": null,
   "metadata": {},
   "outputs": [],
   "source": [
    "test_path='data/FT_Camp_5/X_test.csv'\n",
    "test_data=pd.read_csv(test_path)\n",
    "test_data.set_index('stockcode',inplace=True)"
   ]
  },
  {
   "cell_type": "code",
   "execution_count": null,
   "metadata": {},
   "outputs": [],
   "source": [
    "xgb_pred=xgb.XGBClassifier(**params_dict)\n",
    "xgb_pred.fit(X,y)\n",
    "test_data['fake']=xgb_pred.predict(test_data)"
   ]
  },
  {
   "cell_type": "code",
   "execution_count": null,
   "metadata": {},
   "outputs": [],
   "source": [
    "save_=test_data.fake\n",
    "save_.to_csv('unsample_xgb.csv',sep=',',header=True,index=False,encoding='UTF-8')"
   ]
  }
 ],
 "metadata": {
  "kernelspec": {
   "display_name": "Python 3",
   "language": "python",
   "name": "python3"
  },
  "language_info": {
   "codemirror_mode": {
    "name": "ipython",
    "version": 3
   },
   "file_extension": ".py",
   "mimetype": "text/x-python",
   "name": "python",
   "nbconvert_exporter": "python",
   "pygments_lexer": "ipython3",
   "version": "3.7.3"
  }
 },
 "nbformat": 4,
 "nbformat_minor": 2
}
