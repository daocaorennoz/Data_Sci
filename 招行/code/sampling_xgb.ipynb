{
 "cells": [
  {
   "cell_type": "code",
   "execution_count": null,
   "metadata": {},
   "outputs": [],
   "source": [
    "import pandas as pd\n",
    "path = 'data/FT_Camp_5/Train.csv'\n",
    "data = pd.read_csv(path)\n",
    "data.set_index('stockcode',inplace=True)\n",
    "data.head()"
   ]
  },
  {
   "cell_type": "code",
   "execution_count": null,
   "metadata": {},
   "outputs": [],
   "source": [
    "import pandas as pd\n",
    "import numpy as np\n",
    "from sklearn.model_selection import KFold,cross_val_score\n",
    "import xgboost as xgb\n",
    "from sklearn.model_selection import GridSearchCV\n",
    "from sklearn.model_selection import train_test_split\n",
    "def up_sampling(X,y):\n",
    "    '''\n",
    "    上采样函数，运用SMOTE\n",
    "    '''\n",
    "    from imblearn.over_sampling import SMOTE\n",
    "    sm = SMOTE(random_state=42)\n",
    "    X,y=sm.fit_sample(X,y)\n",
    "    return X,y\n",
    "def view_ratio(X,y):\n",
    "    '''\n",
    "    查看正负类别比例\n",
    "    '''\n",
    "    n_sample = y.shape[0]\n",
    "    n_pos_sample = y[y==0].shape[0]\n",
    "    n_neg_sample = y[y==1].shape[0]\n",
    "    print('样本个数：{}：正样本占{:.2%}：负样本占{:.2%}'.format(n_sample,n_pos_sample/n_sample,n_neg_sample/n_sample))\n",
    "    print('特征维数:',X.shape[1])"
   ]
  },
  {
   "cell_type": "code",
   "execution_count": null,
   "metadata": {},
   "outputs": [],
   "source": [
    "temp = data.isnull().any() #列中是否存在空值\n",
    "print(type(temp))\n",
    "print(temp)"
   ]
  },
  {
   "cell_type": "code",
   "execution_count": null,
   "metadata": {},
   "outputs": [],
   "source": [
    "data.Invest_to_NA.fillna(0,inplace=True)"
   ]
  },
  {
   "cell_type": "code",
   "execution_count": null,
   "metadata": {},
   "outputs": [],
   "source": [
    "X=data.iloc[:,0:34]\n",
    "y=data.fake"
   ]
  },
  {
   "cell_type": "code",
   "execution_count": null,
   "metadata": {},
   "outputs": [],
   "source": [
    "temp = X.isnull().any() #列中是否存在空值\n",
    "print(type(temp))\n",
    "print(temp)"
   ]
  },
  {
   "cell_type": "code",
   "execution_count": null,
   "metadata": {},
   "outputs": [],
   "source": [
    "view_ratio(X,y)\n",
    "X,y=up_sampling(X,y)\n",
    "view_ratio(X,y)"
   ]
  },
  {
   "cell_type": "code",
   "execution_count": null,
   "metadata": {},
   "outputs": [],
   "source": [
    "dtarin=xgb.DMatrix(X,label=y,missing=0)"
   ]
  },
  {
   "cell_type": "code",
   "execution_count": null,
   "metadata": {},
   "outputs": [],
   "source": [
    "params_dict={\n",
    "    'learning_rate':0.1,\n",
    "    'n_estimators':816,\n",
    "    'gamma':0,\n",
    "    'max_depth':8,\n",
    "    'min_child_weight':1,\n",
    "    'colsample_bytree':0.9,\n",
    "    'colsample_bylevel':1.0,\n",
    "    'subsample':0.5,\n",
    "    'reg_lambda':0.0,\n",
    "    'reg_alpha':0.18,\n",
    "    'seed':42\n",
    "}\n",
    "clf=xgb.XGBClassifier(**params_dict)\n",
    "# cv_params={'n_estimators':np.linspace(750,850,10,dtype=int)}  \n",
    "# cv_params={'max_depth':np.linspace(1,10,10,dtype=int)}\n",
    "# cv_params={'min_child_weight':np.linspace(1,10,10,dtype=int)}\n",
    "# cv_params={'gamma':np.linspace(0,0.1,11)}\n",
    "# cv_params={'subsample':np.linspace(0,1,11)}\n",
    "# cv_params={'colsample_bytree':np.linspace(0,1,11)[1:]}\n",
    "# cv_params={'colsample_bylevel':np.linspace(0.9,1,11)[1:]}\n",
    "# cv_params={'re_lambda':np.linspace(0,0.1,11)}\n",
    "# cv_params={'reg_alpha':np.linspace(0.1,0.2,11)}\n",
    "cv_params={'learning_rate':np.logspace(-2,0,11)}\n",
    "gs = GridSearchCV(clf,cv_params,verbose=2,refit=True,cv=5,n_jobs=-1)\n",
    "gs.fit(X,y)\n",
    "print('best value:',gs.best_params_)\n",
    "print('socre:',gs.best_score_)"
   ]
  },
  {
   "cell_type": "code",
   "execution_count": null,
   "metadata": {},
   "outputs": [],
   "source": [
    "params_dict={\n",
    "    'learning_rate':0.1,\n",
    "    'n_estimators':816,\n",
    "    'gamma':0,\n",
    "    'max_depth':8,\n",
    "    'min_child_weight':1,\n",
    "    'colsample_bytree':0.9,\n",
    "    'colsample_bylevel':1.0,\n",
    "    'subsample':0.5,\n",
    "    'reg_lambda':0.0,\n",
    "    'reg_alpha':0.18,\n",
    "    'seed':42\n",
    "}"
   ]
  },
  {
   "cell_type": "code",
   "execution_count": null,
   "metadata": {},
   "outputs": [],
   "source": [
    "def f1_cv(model,X,y):\n",
    "    f1=cross_val_score(model,X,y,scoring='f1',cv=5)\n",
    "    return f1\n",
    "tuned_xgb=xgb.XGBClassifier(**params_dict)\n",
    "score_t=f1_cv(tuned_xgb,X,y)\n",
    "print('tuned:{:.4f}({:.4f})'.format(score_t.mean(),score_t.std()))"
   ]
  },
  {
   "cell_type": "code",
   "execution_count": null,
   "metadata": {},
   "outputs": [],
   "source": [
    "test_path='data/FT_Camp_5/X_test.csv'\n",
    "test_data=pd.read_csv(test_path)\n",
    "test_data.set_index('stockcode',inplace=True)"
   ]
  },
  {
   "cell_type": "code",
   "execution_count": null,
   "metadata": {},
   "outputs": [],
   "source": [
    "test_data.head()\n",
    "temp = test_data.isnull().any() #列中是否存在空值\n",
    "print(type(temp))\n",
    "print(temp)"
   ]
  },
  {
   "cell_type": "code",
   "execution_count": null,
   "metadata": {},
   "outputs": [],
   "source": [
    "test_data.Invest_to_NA.fillna(0,inplace=True)"
   ]
  },
  {
   "cell_type": "code",
   "execution_count": null,
   "metadata": {},
   "outputs": [],
   "source": [
    "xgb_pred=xgb.XGBClassifier(**params_dict)\n",
    "xgb_pred.fit(X,y)"
   ]
  },
  {
   "cell_type": "code",
   "execution_count": null,
   "metadata": {},
   "outputs": [],
   "source": [
    "dtest = xgb.DMatrix(test_data, missing=0)"
   ]
  },
  {
   "cell_type": "code",
   "execution_count": null,
   "metadata": {},
   "outputs": [],
   "source": [
    "test_data['fake']=xgb_pred.predict(test_data)"
   ]
  },
  {
   "cell_type": "code",
   "execution_count": null,
   "metadata": {},
   "outputs": [],
   "source": [
    "save_=test_data.fake\n",
    "save_.to_csv('sample_xgb.csv',sep=',',header=True,index=True,encoding='UTF-8')"
   ]
  },
  {
   "cell_type": "code",
   "execution_count": null,
   "metadata": {},
   "outputs": [],
   "source": [
    "result=pd.read_csv('sample_xgb.csv')\n",
    "result.describe()"
   ]
  }
 ],
 "metadata": {
  "kernelspec": {
   "display_name": "Python 3",
   "language": "python",
   "name": "python3"
  },
  "language_info": {
   "codemirror_mode": {
    "name": "ipython",
    "version": 3
   },
   "file_extension": ".py",
   "mimetype": "text/x-python",
   "name": "python",
   "nbconvert_exporter": "python",
   "pygments_lexer": "ipython3",
   "version": "3.7.3"
  }
 },
 "nbformat": 4,
 "nbformat_minor": 2
}
